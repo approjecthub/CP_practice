{
  "nbformat": 4,
  "nbformat_minor": 0,
  "metadata": {
    "colab": {
      "name": "string compression.ipynb",
      "provenance": [],
      "authorship_tag": "ABX9TyPeaLWFrcMjtMO2SKxgm832",
      "include_colab_link": true
    },
    "kernelspec": {
      "name": "python3",
      "display_name": "Python 3"
    },
    "language_info": {
      "name": "python"
    }
  },
  "cells": [
    {
      "cell_type": "markdown",
      "metadata": {
        "id": "view-in-github",
        "colab_type": "text"
      },
      "source": [
        "<a href=\"https://colab.research.google.com/github/approjecthub/CP_practice/blob/main/string_compression.ipynb\" target=\"_parent\"><img src=\"https://colab.research.google.com/assets/colab-badge.svg\" alt=\"Open In Colab\"/></a>"
      ]
    },
    {
      "cell_type": "markdown",
      "metadata": {
        "id": "VRyAnHbn4vrh"
      },
      "source": [
        "https://leetcode.com/problems/string-compression/"
      ]
    },
    {
      "cell_type": "code",
      "metadata": {
        "id": "ENUabi3j4pat"
      },
      "source": [
        "def compress( chars) :\n",
        "        ansidx = 0\n",
        "        \n",
        "        i = 0\n",
        "        j = 1\n",
        "        n = len(chars)\n",
        "        while i<n:\n",
        "            count = 0\n",
        "            ch = chars[i]\n",
        "            while i<n and j<n and chars[i]==chars[j]:\n",
        "                count += 1\n",
        "                i += 1\n",
        "                j += 1\n",
        "            \n",
        "            chars[ansidx]=ch\n",
        "            if count>0:\n",
        "                strc = str(count+1)\n",
        "                for c in strc:\n",
        "                    \n",
        "                    ansidx += 1\n",
        "                    chars[ansidx] = c\n",
        "\n",
        "            i += 1\n",
        "            j += 1\n",
        "            ansidx += 1\n",
        "\n",
        "        return ansidx   \n",
        "                \n"
      ],
      "execution_count": 8,
      "outputs": []
    },
    {
      "cell_type": "code",
      "metadata": {
        "colab": {
          "base_uri": "https://localhost:8080/"
        },
        "id": "SAhAG_5V43xW",
        "outputId": "c4870aa3-bb56-498b-fd95-7358a9226920"
      },
      "source": [
        "print(compress([\"a\",\"a\",\"a\",\"b\",\"b\",\"a\",\"a\"]))"
      ],
      "execution_count": 9,
      "outputs": [
        {
          "output_type": "stream",
          "text": [
            "6\n"
          ],
          "name": "stdout"
        }
      ]
    },
    {
      "cell_type": "code",
      "metadata": {
        "id": "IuHtCBGJ47tx"
      },
      "source": [
        ""
      ],
      "execution_count": null,
      "outputs": []
    }
  ]
}