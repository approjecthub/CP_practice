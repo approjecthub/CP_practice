{
  "nbformat": 4,
  "nbformat_minor": 0,
  "metadata": {
    "colab": {
      "name": "one away strings.ipynb",
      "provenance": [],
      "authorship_tag": "ABX9TyOWgkl1rDBzEHK9a5Y3zg3D",
      "include_colab_link": true
    },
    "kernelspec": {
      "name": "python3",
      "display_name": "Python 3"
    },
    "language_info": {
      "name": "python"
    }
  },
  "cells": [
    {
      "cell_type": "markdown",
      "metadata": {
        "id": "view-in-github",
        "colab_type": "text"
      },
      "source": [
        "<a href=\"https://colab.research.google.com/github/approjecthub/CP_practice/blob/main/one_away_strings.ipynb\" target=\"_parent\"><img src=\"https://colab.research.google.com/assets/colab-badge.svg\" alt=\"Open In Colab\"/></a>"
      ]
    },
    {
      "cell_type": "code",
      "metadata": {
        "id": "jXBOcVDnDhL3"
      },
      "source": [
        "# \"abcde\", \"abcde\" -> true\n",
        "# \"abc\", \"bcc\"-> false (Since it will take 2 operation to convert string2 to string1 i.e. to delete last 'c' and insert 'a' at the begining )"
      ],
      "execution_count": 3,
      "outputs": []
    },
    {
      "cell_type": "code",
      "metadata": {
        "id": "GcGPJuJzIjYK"
      },
      "source": [
        "#optimal soln: TC:o(n), SC:o(1)\n",
        "def is_one_away(s1, s2):\n",
        "  m = len(s1)\n",
        "  n = len(s2)\n",
        "\n",
        "  if abs(m-n)>1:\n",
        "    return False\n",
        "\n",
        "\n",
        "  i = 0\n",
        "  j = 0\n",
        "\n",
        "  count = 1\n",
        "  while i<m and j<n:\n",
        "    if m==n:\n",
        "      if s1[i]!=s2[j]:\n",
        "        if count==0:\n",
        "          return False\n",
        "        count -= 1\n",
        "      i += 1\n",
        "      j += 1\n",
        "\n",
        "\n",
        "    elif m<n:\n",
        "      if s1[i]==s2[j]:\n",
        "        i += 1\n",
        "        j += 1\n",
        "\n",
        "      else:\n",
        "        if count==0:\n",
        "          return False\n",
        "        count -= 1 \n",
        "        j += 1\n",
        "\n",
        "    else:\n",
        "      if s1[i]==s2[j]:\n",
        "        i += 1\n",
        "        j += 1\n",
        "\n",
        "      else:\n",
        "        if count==0:\n",
        "          return False\n",
        "        count -= 1 \n",
        "        i += 1  \n",
        "\n",
        "  return True       \n",
        "\n"
      ],
      "execution_count": 22,
      "outputs": []
    },
    {
      "cell_type": "code",
      "metadata": {
        "colab": {
          "base_uri": "https://localhost:8080/"
        },
        "id": "W0gKtk9aQbH1",
        "outputId": "0b352f1e-6629-431b-cc83-130d4b3b7d08"
      },
      "source": [
        "# is_one_away(\"abcde\", \"abcd\")  # should return True\n",
        "# is_one_away(\"abde\", \"abcde\")  # should return True\n",
        "# is_one_away(\"a\", \"a\")  # should return True\n",
        "# is_one_away(\"abcdef\", \"abqdef\")  # should return True\n",
        "# is_one_away(\"abcdef\", \"abccef\")  # should return True\n",
        "# is_one_away(\"abcdef\", \"abcde\")  # should return True\n",
        "# is_one_away(\"aaa\", \"abc\")  # should return False\n",
        "# is_one_away(\"abcde\", \"abc\")  # should return False\n",
        "# is_one_away(\"abc\", \"abcde\")  # should return False\n",
        "# is_one_away(\"abc\", \"bcc\")  # should return False\n"
      ],
      "execution_count": 23,
      "outputs": [
        {
          "output_type": "execute_result",
          "data": {
            "text/plain": [
              "False"
            ]
          },
          "metadata": {
            "tags": []
          },
          "execution_count": 23
        }
      ]
    },
    {
      "cell_type": "code",
      "metadata": {
        "id": "e5ti8REtQy4c"
      },
      "source": [
        ""
      ],
      "execution_count": null,
      "outputs": []
    }
  ]
}