{
  "nbformat": 4,
  "nbformat_minor": 0,
  "metadata": {
    "colab": {
      "name": "next permutation.ipynb",
      "provenance": [],
      "authorship_tag": "ABX9TyP7e0nkIcsYf4QTsA5U2J2+",
      "include_colab_link": true
    },
    "kernelspec": {
      "name": "python3",
      "display_name": "Python 3"
    },
    "language_info": {
      "name": "python"
    }
  },
  "cells": [
    {
      "cell_type": "markdown",
      "metadata": {
        "id": "view-in-github",
        "colab_type": "text"
      },
      "source": [
        "<a href=\"https://colab.research.google.com/github/approjecthub/CP_practice/blob/main/next_permutation.ipynb\" target=\"_parent\"><img src=\"https://colab.research.google.com/assets/colab-badge.svg\" alt=\"Open In Colab\"/></a>"
      ]
    },
    {
      "cell_type": "code",
      "metadata": {
        "id": "7LQPaDB3H3vf"
      },
      "source": [
        "s1 = '321'"
      ],
      "execution_count": 107,
      "outputs": []
    },
    {
      "cell_type": "code",
      "metadata": {
        "colab": {
          "base_uri": "https://localhost:8080/"
        },
        "id": "oip56CVoI9Hf",
        "outputId": "c2fc7316-07f6-4983-8334-2492de3363c8"
      },
      "source": [
        "## 1. finding highest number i such that, s[i]<s[i+1]\n",
        "\n",
        "n = len(s1)\n",
        "# if n==1:return ###there is no valid permutation for this number \n",
        "i = n-2\n",
        "flag = False\n",
        "while i>=0 :\n",
        "  \n",
        "  if s1[i]<s1[i+1]:\n",
        "    flag = True\n",
        "    break\n",
        "\n",
        "  i-=1\n",
        "print(i)"
      ],
      "execution_count": 108,
      "outputs": [
        {
          "output_type": "stream",
          "text": [
            "-1\n"
          ],
          "name": "stdout"
        }
      ]
    },
    {
      "cell_type": "code",
      "metadata": {
        "id": "4ws-tVLPJNNd"
      },
      "source": [
        "## 2. find the highest index j>i, s[j]>s[i]\n",
        "j = n-1\n",
        "if flag:\n",
        "  while j>i  :\n",
        "    \n",
        "    if s1[j]>s1[i]:\n",
        "      break \n",
        "    j-= 1\n",
        "\n"
      ],
      "execution_count": 109,
      "outputs": []
    },
    {
      "cell_type": "code",
      "metadata": {
        "id": "jRLjEoLpMD-S"
      },
      "source": [
        "## 3. swap s[i] & s[j] \n",
        "s1 = list(s1)\n",
        "\n",
        "if flag:\n",
        "  s1[i], s1[j] = s1[j], s1[i]\n",
        "\n"
      ],
      "execution_count": 110,
      "outputs": []
    },
    {
      "cell_type": "code",
      "metadata": {
        "id": "V3-ZXBLOMSVq"
      },
      "source": [
        "## 4. reverse all elements after i\n",
        "if flag:\n",
        "  s1[i+1:] = s1[i+1:][::-1]"
      ],
      "execution_count": 111,
      "outputs": []
    },
    {
      "cell_type": "code",
      "metadata": {
        "colab": {
          "base_uri": "https://localhost:8080/"
        },
        "id": "jZqMl9_yOF8a",
        "outputId": "ea293c55-9477-441e-a560-ee9e2f939e27"
      },
      "source": [
        "print(''.join(s1))"
      ],
      "execution_count": 112,
      "outputs": [
        {
          "output_type": "stream",
          "text": [
            "321\n"
          ],
          "name": "stdout"
        }
      ]
    },
    {
      "cell_type": "markdown",
      "metadata": {
        "id": "uxIpD9J1YHVA"
      },
      "source": [
        "https://leetcode.com/problems/next-permutation/"
      ]
    },
    {
      "cell_type": "code",
      "metadata": {
        "id": "qPXmmPvXUXe5"
      },
      "source": [
        "class Solution:\n",
        "    def nextPermutation(self, nums: List[int]) -> None:\n",
        "        \"\"\"\n",
        "        Do not return anything, modify nums in-place instead.\n",
        "        \"\"\"\n",
        "        n = len(nums)\n",
        "        if n<=1:\n",
        "            return\n",
        "        \n",
        "        i = n-2\n",
        "        \n",
        "        flag = False\n",
        "        while i>=0  :\n",
        "            if nums[i]<nums[i+1]:\n",
        "                flag = True\n",
        "                break\n",
        "            i-=1\n",
        "        \n",
        "        i = max(0,i)\n",
        "            \n",
        "        j = n-1\n",
        "        flag = False\n",
        "        while j>i :\n",
        "            if nums[j]>nums[i]:\n",
        "                flag = True \n",
        "                break\n",
        "            j-= 1\n",
        "            \n",
        "        j = max(j,0)\n",
        "        if flag:\n",
        "            \n",
        "            nums[j],nums[i] = nums[i],nums[j]\n",
        "            \n",
        "            nums[i+1:] = nums[i+1:][::-1] \n",
        "            \n",
        "        if not flag:\n",
        "            nums.sort()\n",
        "            "
      ],
      "execution_count": null,
      "outputs": []
    }
  ]
}