{
  "nbformat": 4,
  "nbformat_minor": 0,
  "metadata": {
    "colab": {
      "name": "Find number of solutions of a linear equation of n variables.ipynb",
      "provenance": [],
      "authorship_tag": "ABX9TyN818Gm2belTgFUWjRJ1D2i",
      "include_colab_link": true
    },
    "kernelspec": {
      "name": "python3",
      "display_name": "Python 3"
    },
    "language_info": {
      "name": "python"
    }
  },
  "cells": [
    {
      "cell_type": "markdown",
      "metadata": {
        "id": "view-in-github",
        "colab_type": "text"
      },
      "source": [
        "<a href=\"https://colab.research.google.com/github/approjecthub/CP_practice/blob/main/Find_number_of_solutions_of_a_linear_equation_of_n_variables.ipynb\" target=\"_parent\"><img src=\"https://colab.research.google.com/assets/colab-badge.svg\" alt=\"Open In Colab\"/></a>"
      ]
    },
    {
      "cell_type": "code",
      "metadata": {
        "id": "yKLrobeco8mL"
      },
      "source": [
        "# Input:  coeff[] = {1, 2}, rhs = 5\n",
        "# Output: 3\n",
        "# The equation \"x + 2y = 5\" has 3 solutions.\n",
        "# (x=3,y=1), (x=1,y=2), (x=5,y=0)"
      ],
      "execution_count": null,
      "outputs": []
    },
    {
      "cell_type": "code",
      "metadata": {
        "id": "xszSk1bzprMU"
      },
      "source": [
        "coeff = [2,2,5]\n",
        "rhs = 6\n"
      ],
      "execution_count": null,
      "outputs": []
    },
    {
      "cell_type": "code",
      "metadata": {
        "colab": {
          "base_uri": "https://localhost:8080/"
        },
        "id": "dYviBPXYp5rZ",
        "outputId": "2e8538f2-fb4f-41c8-b0a8-b70bcf47f2fe"
      },
      "source": [
        "def rec(n,rhs):\n",
        "  \n",
        "  if rhs==0:\n",
        "    return 1\n",
        "\n",
        "  if n<=0:\n",
        "    return 0\n",
        "\n",
        "  ans = 0\n",
        "  for i in range(rhs+1):\n",
        "    if rhs>= i*coeff[n-1]:\n",
        "      \n",
        "      ans += rec(n-1, rhs - (i*coeff[n-1]))\n",
        "  \n",
        "  return ans \n",
        "\n",
        "\n",
        "n = len(coeff)\n",
        "print(rec(n,rhs))"
      ],
      "execution_count": null,
      "outputs": [
        {
          "output_type": "stream",
          "text": [
            "4\n"
          ],
          "name": "stdout"
        }
      ]
    },
    {
      "cell_type": "code",
      "metadata": {
        "id": "cCgDKsXvrHNd"
      },
      "source": [
        ""
      ],
      "execution_count": null,
      "outputs": []
    }
  ]
}