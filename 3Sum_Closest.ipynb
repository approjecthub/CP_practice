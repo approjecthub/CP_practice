{
  "nbformat": 4,
  "nbformat_minor": 0,
  "metadata": {
    "colab": {
      "name": "3Sum Closest.ipynb",
      "provenance": [],
      "authorship_tag": "ABX9TyPZMM8LPU+zDlgj4QaKaUrg",
      "include_colab_link": true
    },
    "kernelspec": {
      "name": "python3",
      "display_name": "Python 3"
    },
    "language_info": {
      "name": "python"
    }
  },
  "cells": [
    {
      "cell_type": "markdown",
      "metadata": {
        "id": "view-in-github",
        "colab_type": "text"
      },
      "source": [
        "<a href=\"https://colab.research.google.com/github/approjecthub/CP_practice/blob/main/3Sum_Closest.ipynb\" target=\"_parent\"><img src=\"https://colab.research.google.com/assets/colab-badge.svg\" alt=\"Open In Colab\"/></a>"
      ]
    },
    {
      "cell_type": "markdown",
      "metadata": {
        "id": "5rNG44wFbP-x"
      },
      "source": [
        "https://leetcode.com/problems/3sum-closest/"
      ]
    },
    {
      "cell_type": "code",
      "metadata": {
        "id": "ADMmyCOMaKZE"
      },
      "source": [
        "class Solution:\n",
        "    def threeSumClosest(self, nums: List[int], target: int) -> int:\n",
        "        nums.sort()\n",
        "        n = len(nums)-1\n",
        "        i = 0\n",
        "        \n",
        "        res = float('inf')\n",
        "        while i<=n-2:\n",
        "            # print(i,nums[i])\n",
        "            j = n\n",
        "            k = i+1\n",
        "            while k<j:\n",
        "                temp = nums[i]+nums[j]+nums[k]\n",
        "                \n",
        "                if(abs(res-target)> abs(temp-target)):\n",
        "                    res = temp\n",
        "                   \n",
        "                if(temp<target):\n",
        "                    k += 1\n",
        "                else:\n",
        "                    j -= 1\n",
        "                    \n",
        "            i+=1\n",
        "\n",
        "        return res\n",
        "            "
      ],
      "execution_count": null,
      "outputs": []
    }
  ]
}