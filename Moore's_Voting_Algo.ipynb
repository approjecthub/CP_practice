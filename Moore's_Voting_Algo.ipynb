{
  "nbformat": 4,
  "nbformat_minor": 0,
  "metadata": {
    "colab": {
      "name": "Moore's Voting Algo.ipynb",
      "provenance": [],
      "authorship_tag": "ABX9TyO9HB22pg3CcZaiqD2tSsCz",
      "include_colab_link": true
    },
    "kernelspec": {
      "name": "python3",
      "display_name": "Python 3"
    },
    "language_info": {
      "name": "python"
    }
  },
  "cells": [
    {
      "cell_type": "markdown",
      "metadata": {
        "id": "view-in-github",
        "colab_type": "text"
      },
      "source": [
        "<a href=\"https://colab.research.google.com/github/approjecthub/CP_practice/blob/main/Moore's_Voting_Algo.ipynb\" target=\"_parent\"><img src=\"https://colab.research.google.com/assets/colab-badge.svg\" alt=\"Open In Colab\"/></a>"
      ]
    },
    {
      "cell_type": "markdown",
      "metadata": {
        "id": "SphH5z0f5vdo"
      },
      "source": [
        "https://www.geeksforgeeks.org/given-an-array-of-of-size-n-finds-all-the-elements-that-appear-more-than-nk-times/"
      ]
    },
    {
      "cell_type": "code",
      "metadata": {
        "id": "cqJZftcl5rMt"
      },
      "source": [
        "# Given an array of size n, find all elements in array that appear more than n/k times. \n",
        "# For example, if the input arrays is {3, 1, 2, 2, 1, 2, 3, 3} and k is 4, then the output should be [2, 3].\n",
        "#  Note that size of array is 8 (or n = 8), so we need to find all elements that appear more than 2 (or 8/4) times. \n",
        "# There are two elements that appear more than two times, 2 and 3. \n",
        "\n",
        "## optimal approach: TC: o(nk) sc: o(k)"
      ],
      "execution_count": null,
      "outputs": []
    },
    {
      "cell_type": "code",
      "metadata": {
        "id": "Z-ZZG1TW6kVk"
      },
      "source": [
        "arr1 = [ 2, 3, 3, 2 ]\n",
        "k = 3\n"
      ],
      "execution_count": 18,
      "outputs": []
    },
    {
      "cell_type": "code",
      "metadata": {
        "id": "BjHzihNt7FYc"
      },
      "source": [
        "num = [0]*(k-1)\n",
        "count = [0]*(k-1)\n",
        "\n",
        "for i in range(len(arr1)):\n",
        "  flag = True\n",
        "  for j in range(k-1):\n",
        "    if num[j]==arr1[i]:\n",
        "      count[j] += 1\n",
        "      flag = False \n",
        "      break\n",
        "\n",
        "    elif count[j]==0:\n",
        "      flag = False\n",
        "      num[j] = arr1[i]\n",
        "      count[j] = 1\n",
        "      break\n",
        "\n",
        "  if flag:\n",
        "    for j in range(k-1):\n",
        "      count[j]-= 1 \n",
        "\n",
        "\n"
      ],
      "execution_count": 19,
      "outputs": []
    },
    {
      "cell_type": "code",
      "metadata": {
        "colab": {
          "base_uri": "https://localhost:8080/"
        },
        "id": "F4sA4Uij_VjL",
        "outputId": "47e00e0d-7d22-4a81-becc-b9d405f07d4e"
      },
      "source": [
        "ans = []\n",
        "n = len(arr1)\n",
        "for x in num:\n",
        "  if arr1.count(x)> n//k:\n",
        "    ans.append(x)\n",
        "\n",
        "print(ans)"
      ],
      "execution_count": 20,
      "outputs": [
        {
          "output_type": "stream",
          "text": [
            "[2, 3]\n"
          ],
          "name": "stdout"
        }
      ]
    },
    {
      "cell_type": "code",
      "metadata": {
        "id": "047345H-_XeR"
      },
      "source": [
        ""
      ],
      "execution_count": null,
      "outputs": []
    }
  ]
}