{
  "nbformat": 4,
  "nbformat_minor": 0,
  "metadata": {
    "colab": {
      "name": "Moore's Voting Algo.ipynb",
      "provenance": [],
      "authorship_tag": "ABX9TyMY+rkOokgxWlK2CA5feBMY",
      "include_colab_link": true
    },
    "kernelspec": {
      "name": "python3",
      "display_name": "Python 3"
    },
    "language_info": {
      "name": "python"
    }
  },
  "cells": [
    {
      "cell_type": "markdown",
      "metadata": {
        "id": "view-in-github",
        "colab_type": "text"
      },
      "source": [
        "<a href=\"https://colab.research.google.com/github/approjecthub/CP_practice/blob/main/Moore's_Voting_Algo.ipynb\" target=\"_parent\"><img src=\"https://colab.research.google.com/assets/colab-badge.svg\" alt=\"Open In Colab\"/></a>"
      ]
    },
    {
      "cell_type": "markdown",
      "metadata": {
        "id": "SphH5z0f5vdo"
      },
      "source": [
        "https://www.geeksforgeeks.org/given-an-array-of-of-size-n-finds-all-the-elements-that-appear-more-than-nk-times/"
      ]
    },
    {
      "cell_type": "code",
      "metadata": {
        "id": "cqJZftcl5rMt"
      },
      "source": [
        "# Given an array of size n, find all elements in array that appear more than n/k times. \n",
        "# For example, if the input arrays is {3, 1, 2, 2, 1, 2, 3, 3} and k is 4, then the output should be [2, 3].\n",
        "#  Note that size of array is 8 (or n = 8), so we need to find all elements that appear more than 2 (or 8/4) times. \n",
        "# There are two elements that appear more than two times, 2 and 3. \n",
        "\n",
        "## optimal approach: TC: o(nk) sc: o(k)"
      ],
      "execution_count": null,
      "outputs": []
    },
    {
      "cell_type": "code",
      "metadata": {
        "id": "047345H-_XeR"
      },
      "source": [
        "##passed my logic from leetcode :  https://leetcode.com/problems/majority-element-ii/\n",
        "\n",
        "def majorityElement( nums,k):\n",
        "    k = 3\n",
        "    num = [float('inf')]*(k-1)\n",
        "    count = [0]*(k-1)\n",
        "\n",
        "    for i in range(len(nums)):\n",
        "        flag1 = True\n",
        "        flag2 = True\n",
        "        for j in range(k-1):\n",
        "            # print(num[j],nums[i])\n",
        "            if num[j]==nums[i]:\n",
        "                # print('ok')\n",
        "                count[j] += 1\n",
        "                flag1 = False \n",
        "                flag2 = False\n",
        "                break\n",
        "\n",
        "        if flag1:\n",
        "            for j in range(k-1):\n",
        "                if count[j]==0:\n",
        "                    flag2 = False\n",
        "                    num[j] = nums[i]\n",
        "                    count[j] = 1\n",
        "                    break\n",
        "\n",
        "        if flag2:\n",
        "            for j in range(k-1):\n",
        "                count[j]-= 1 \n",
        "                \n",
        "        # print(nums[i],num, count)\n",
        "                \n",
        "    ans = []\n",
        "    n = len(nums)\n",
        "    for x in num:\n",
        "        # print(x)\n",
        "        if x!=float('inf') and nums.count(x)> n//k:\n",
        "            ans.append(x)   \n",
        "        \n",
        "    return ans"
      ],
      "execution_count": 4,
      "outputs": []
    },
    {
      "cell_type": "code",
      "metadata": {
        "id": "Z-ZZG1TW6kVk",
        "colab": {
          "base_uri": "https://localhost:8080/"
        },
        "outputId": "af314e04-016b-4c19-aaed-bcf2ddfbe7d3"
      },
      "source": [
        "arr1 = [2,1,1,3,1,4,5,6]\n",
        "k = 3\n",
        "\n",
        "majorityElement( arr1,k)"
      ],
      "execution_count": 5,
      "outputs": [
        {
          "output_type": "execute_result",
          "data": {
            "text/plain": [
              "[1]"
            ]
          },
          "metadata": {
            "tags": []
          },
          "execution_count": 5
        }
      ]
    },
    {
      "cell_type": "code",
      "metadata": {
        "id": "RIdOtOw4vfQ5"
      },
      "source": [
        ""
      ],
      "execution_count": null,
      "outputs": []
    }
  ]
}