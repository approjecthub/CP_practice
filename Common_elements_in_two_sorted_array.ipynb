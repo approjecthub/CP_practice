{
  "nbformat": 4,
  "nbformat_minor": 0,
  "metadata": {
    "colab": {
      "name": "Common elements in two sorted array.ipynb",
      "provenance": [],
      "authorship_tag": "ABX9TyMhsPtX0KRGFNDwILxMA5D3",
      "include_colab_link": true
    },
    "kernelspec": {
      "name": "python3",
      "display_name": "Python 3"
    },
    "language_info": {
      "name": "python"
    }
  },
  "cells": [
    {
      "cell_type": "markdown",
      "metadata": {
        "id": "view-in-github",
        "colab_type": "text"
      },
      "source": [
        "<a href=\"https://colab.research.google.com/github/approjecthub/CP_practice/blob/main/Common_elements_in_two_sorted_array.ipynb\" target=\"_parent\"><img src=\"https://colab.research.google.com/assets/colab-badge.svg\" alt=\"Open In Colab\"/></a>"
      ]
    },
    {
      "cell_type": "code",
      "metadata": {
        "id": "jXBOcVDnDhL3"
      },
      "source": [
        "A = [1,3,4,6,7,9]\n",
        "B = [1,2,4,5,9,10]\n",
        "\n",
        "## expected op: [1,4,9]"
      ],
      "execution_count": 1,
      "outputs": []
    },
    {
      "cell_type": "code",
      "metadata": {
        "colab": {
          "base_uri": "https://localhost:8080/"
        },
        "id": "GcGPJuJzIjYK",
        "outputId": "e9d535b7-41bb-4327-89c5-7821c74aefec"
      },
      "source": [
        "##Let's try to modify merge logic, TC:O(n)\n",
        "\n",
        "res = []\n",
        "\n",
        "m = len(A)\n",
        "n = len(B)\n",
        "\n",
        "i = 0\n",
        "j = 0\n",
        "while i<m and j<n:\n",
        "  if A[i]==B[j]:\n",
        "    res.append(A[i])\n",
        "    i += 1\n",
        "    j += 1\n",
        "\n",
        "  elif A[i]<B[j]:\n",
        "    i += 1\n",
        "  else:\n",
        "    j += 1\n",
        "\n",
        "print(res)\n"
      ],
      "execution_count": 2,
      "outputs": [
        {
          "output_type": "stream",
          "text": [
            "[1, 4, 9]\n"
          ],
          "name": "stdout"
        }
      ]
    },
    {
      "cell_type": "code",
      "metadata": {
        "id": "f5m1kYexKauD"
      },
      "source": [
        ""
      ],
      "execution_count": null,
      "outputs": []
    }
  ]
}