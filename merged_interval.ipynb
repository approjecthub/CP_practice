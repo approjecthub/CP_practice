{
  "nbformat": 4,
  "nbformat_minor": 0,
  "metadata": {
    "colab": {
      "name": "merged interval.ipynb",
      "provenance": [],
      "authorship_tag": "ABX9TyNwrjOjnPQNJQyWyqCGcknZ",
      "include_colab_link": true
    },
    "kernelspec": {
      "name": "python3",
      "display_name": "Python 3"
    },
    "language_info": {
      "name": "python"
    }
  },
  "cells": [
    {
      "cell_type": "markdown",
      "metadata": {
        "id": "view-in-github",
        "colab_type": "text"
      },
      "source": [
        "<a href=\"https://colab.research.google.com/github/approjecthub/CP_practice/blob/main/merged_interval.ipynb\" target=\"_parent\"><img src=\"https://colab.research.google.com/assets/colab-badge.svg\" alt=\"Open In Colab\"/></a>"
      ]
    },
    {
      "cell_type": "markdown",
      "metadata": {
        "id": "0uVsaiod9w71"
      },
      "source": [
        "https://leetcode.com/problems/merge-intervals/"
      ]
    },
    {
      "cell_type": "code",
      "metadata": {
        "id": "VcW6kBTc9qt-"
      },
      "source": [
        "# Input: intervals = [[1,3],[2,6],[8,10],[15,18]]\n",
        "# Output: [[1,6],[8,10],[15,18]]\n",
        "# Explanation: Since intervals [1,3] and [2,6] overlaps, merge them into [1,6]."
      ],
      "execution_count": null,
      "outputs": []
    },
    {
      "cell_type": "code",
      "metadata": {
        "id": "4R_eC7em9x5M"
      },
      "source": [
        "## TC: O(nlogn + n^2)\n",
        "def merge( intervals) :\n",
        "    intervals.sort(key= lambda x:[x[0],x[1]])\n",
        "    n = len(intervals)\n",
        "    i=0\n",
        "    while i<n:\n",
        "        j = i+1\n",
        "        label = False\n",
        "        while(j<n):\n",
        "            \n",
        "            if i<n and j<n and intervals[i][1]>=intervals[j][0]:\n",
        "                intervals[i][1] =  max(intervals[i][1],intervals[j][1])\n",
        "                label = True\n",
        "                intervals.pop(j)\n",
        "                \n",
        "                n -= 1\n",
        "            j+=1\n",
        "        if not label:\n",
        "            i += 1\n",
        "            \n",
        "                \n",
        "    return intervals"
      ],
      "execution_count": 1,
      "outputs": []
    },
    {
      "cell_type": "code",
      "metadata": {
        "colab": {
          "base_uri": "https://localhost:8080/"
        },
        "id": "UeXQo0x--Zwg",
        "outputId": "ed7f222a-f46e-45ed-9bfb-1854edc2721b"
      },
      "source": [
        "intervals = [[1,3],[2,6],[8,10],[15,18]]\n",
        "print(merge( intervals))"
      ],
      "execution_count": 2,
      "outputs": [
        {
          "output_type": "stream",
          "text": [
            "[[1, 6], [8, 10], [15, 18]]\n"
          ],
          "name": "stdout"
        }
      ]
    },
    {
      "cell_type": "code",
      "metadata": {
        "id": "4sPslW9v-iGI"
      },
      "source": [
        ""
      ],
      "execution_count": null,
      "outputs": []
    }
  ]
}