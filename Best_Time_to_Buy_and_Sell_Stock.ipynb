{
  "nbformat": 4,
  "nbformat_minor": 0,
  "metadata": {
    "colab": {
      "name": "Best Time to Buy and Sell Stock.ipynb",
      "provenance": [],
      "authorship_tag": "ABX9TyNoY69ug+B5G34MbLPr4Ke7",
      "include_colab_link": true
    },
    "kernelspec": {
      "name": "python3",
      "display_name": "Python 3"
    },
    "language_info": {
      "name": "python"
    }
  },
  "cells": [
    {
      "cell_type": "markdown",
      "metadata": {
        "id": "view-in-github",
        "colab_type": "text"
      },
      "source": [
        "<a href=\"https://colab.research.google.com/github/approjecthub/CP_practice/blob/main/Best_Time_to_Buy_and_Sell_Stock.ipynb\" target=\"_parent\"><img src=\"https://colab.research.google.com/assets/colab-badge.svg\" alt=\"Open In Colab\"/></a>"
      ]
    },
    {
      "cell_type": "markdown",
      "metadata": {
        "id": "sr1a5GRvs-Ps"
      },
      "source": [
        "https://leetcode.com/problems/best-time-to-buy-and-sell-stock/"
      ]
    },
    {
      "cell_type": "code",
      "metadata": {
        "id": "3CM3CNC5s4jl"
      },
      "source": [
        "\n",
        "def maxProfit( prices) :\n",
        "    if len(prices)==0:\n",
        "        return 0\n",
        "    maxp = 0\n",
        "    temp = 0\n",
        "    for i in range(1,len(prices)):\n",
        "        temp = max(temp + prices[i]-prices[i-1], 0)\n",
        "        \n",
        "        maxp = max(maxp, temp)\n",
        "        \n",
        "    return maxp\n",
        "    "
      ],
      "execution_count": 1,
      "outputs": []
    },
    {
      "cell_type": "code",
      "metadata": {
        "colab": {
          "base_uri": "https://localhost:8080/"
        },
        "id": "wWBF3y2ctKB-",
        "outputId": "283acfcf-8ea5-4ac5-9682-e109198c553a"
      },
      "source": [
        "prices = [7,1,5,3,6,4]\n",
        "print(maxProfit( prices))"
      ],
      "execution_count": 2,
      "outputs": [
        {
          "output_type": "stream",
          "text": [
            "5\n"
          ],
          "name": "stdout"
        }
      ]
    },
    {
      "cell_type": "code",
      "metadata": {
        "id": "jkdY9-cMtQ91"
      },
      "source": [
        ""
      ],
      "execution_count": null,
      "outputs": []
    }
  ]
}