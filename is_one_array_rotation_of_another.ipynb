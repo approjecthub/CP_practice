{
  "nbformat": 4,
  "nbformat_minor": 0,
  "metadata": {
    "colab": {
      "name": "is one array rotation of another.ipynb",
      "provenance": [],
      "authorship_tag": "ABX9TyOu3T6n3BOVLz81QGE7Q3xL",
      "include_colab_link": true
    },
    "kernelspec": {
      "name": "python3",
      "display_name": "Python 3"
    },
    "language_info": {
      "name": "python"
    }
  },
  "cells": [
    {
      "cell_type": "markdown",
      "metadata": {
        "id": "view-in-github",
        "colab_type": "text"
      },
      "source": [
        "<a href=\"https://colab.research.google.com/github/approjecthub/CP_practice/blob/main/is_one_array_rotation_of_another.ipynb\" target=\"_parent\"><img src=\"https://colab.research.google.com/assets/colab-badge.svg\" alt=\"Open In Colab\"/></a>"
      ]
    },
    {
      "cell_type": "code",
      "metadata": {
        "id": "jXBOcVDnDhL3"
      },
      "source": [
        "#Boolean result\n",
        "#no duplicates\n",
        "##Need to be completed in o(n)\n"
      ],
      "execution_count": 3,
      "outputs": []
    },
    {
      "cell_type": "code",
      "metadata": {
        "id": "GcGPJuJzIjYK"
      },
      "source": [
        "def isRoate(A,B):\n",
        "  n = len(B)\n",
        "  m = len(A)\n",
        "  if m!=n:\n",
        "    return False\n",
        "  #find index from where rotation started (There will always be a single index for a element since there is no duplicate  )\n",
        "  loc = -1\n",
        "  for j in range(len(B)):\n",
        "    if A[0] == B[j]:\n",
        "      loc = j\n",
        "  i=0\n",
        "  if loc==-1:\n",
        "    return False\n",
        "  #check right part\n",
        "  for j in range(loc, n):\n",
        "    if A[i] == B[j]:\n",
        "      i+=1\n",
        "\n",
        "    else:\n",
        "      return False \n",
        "\n",
        "  #check left part\n",
        "  for j in range(loc):\n",
        "    if A[i] == B[j]:\n",
        "      i+=1\n",
        "\n",
        "    else:\n",
        "      return False \n",
        "\n",
        "  return True\n",
        "  "
      ],
      "execution_count": 12,
      "outputs": []
    },
    {
      "cell_type": "code",
      "metadata": {
        "colab": {
          "base_uri": "https://localhost:8080/"
        },
        "id": "W0gKtk9aQbH1",
        "outputId": "70b4677d-b684-42e8-b40a-74e54c7831b9"
      },
      "source": [
        "'''\n",
        "Test Cases\n",
        "list1 = [1, 2, 3, 4, 5, 6, 7]\n",
        "list2a = [4, 5, 6, 7, 8, 1, 2, 3]\n",
        "# is_rotation(list1, list2a) should return False.\n",
        "list2b = [4, 5, 6, 7, 1, 2, 3]\n",
        "# is_rotation(list1, list2b) should return True.\n",
        "list2c = [4, 5, 6, 9, 1, 2, 3]\n",
        "# is_rotation(list1, list2c) should return False.\n",
        "list2d = [4, 6, 5, 7, 1, 2, 3]\n",
        "# is_rotation(list1, list2d) should return False.\n",
        "list2e = [4, 5, 6, 7, 0, 2, 3]\n",
        "# is_rotation(list1, list2e) should return False.\n",
        "list2f = [1, 2, 3, 4, 5, 6, 7]\n",
        "# is_rotation(list1, list2f) should return True.\n",
        "list2g = [7, 1, 2, 3, 4, 5, 6]\n",
        "# is_rotation(list1, list2g) should return True.\n",
        "'''\n",
        "\n",
        "print(isRoate([1, 2, 3, 4, 5, 6, 7], [7, 1, 2, 3, 4, 5, 6]))"
      ],
      "execution_count": 11,
      "outputs": [
        {
          "output_type": "stream",
          "text": [
            "True\n"
          ],
          "name": "stdout"
        }
      ]
    },
    {
      "cell_type": "code",
      "metadata": {
        "id": "e5ti8REtQy4c"
      },
      "source": [
        ""
      ],
      "execution_count": null,
      "outputs": []
    }
  ]
}