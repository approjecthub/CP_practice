{
  "nbformat": 4,
  "nbformat_minor": 0,
  "metadata": {
    "colab": {
      "name": "kmp pattern matching.ipynb",
      "provenance": [],
      "authorship_tag": "ABX9TyMBsMaeSseqdzOtbb5ovZmg",
      "include_colab_link": true
    },
    "kernelspec": {
      "name": "python3",
      "display_name": "Python 3"
    },
    "language_info": {
      "name": "python"
    }
  },
  "cells": [
    {
      "cell_type": "markdown",
      "metadata": {
        "id": "view-in-github",
        "colab_type": "text"
      },
      "source": [
        "<a href=\"https://colab.research.google.com/github/approjecthub/CP_practice/blob/main/kmp_pattern_matching.ipynb\" target=\"_parent\"><img src=\"https://colab.research.google.com/assets/colab-badge.svg\" alt=\"Open In Colab\"/></a>"
      ]
    },
    {
      "cell_type": "markdown",
      "metadata": {
        "id": "VvAeAZh2WpYb"
      },
      "source": [
        "https://www.youtube.com/watch?v=ziteu2FpYsA"
      ]
    },
    {
      "cell_type": "code",
      "metadata": {
        "colab": {
          "base_uri": "https://localhost:8080/"
        },
        "id": "SXU1zQkWWkQK",
        "outputId": "529efa5d-7070-4d04-c00d-c5ec99c04299"
      },
      "source": [
        "##let's first concentrate computing lps\n",
        "\n",
        "def computeLPS(pat):\n",
        "  m = len(pat)\n",
        "  lps = [0]*m\n",
        "\n",
        "  l = 0\n",
        "  i = 1\n",
        "\n",
        "  while i<m:\n",
        "    if pat[i]==pat[l]:\n",
        "      l += 1\n",
        "      lps[i] = l\n",
        "      i += 1\n",
        "\n",
        "    else:\n",
        "      if l!=0:\n",
        "        l = lps[l-1]\n",
        "\n",
        "      else:\n",
        "        lps[i] = 0\n",
        "        i += 1\n",
        "\n",
        "  return lps\n",
        "\n",
        "print(computeLPS('aaaa'))"
      ],
      "execution_count": 3,
      "outputs": [
        {
          "output_type": "stream",
          "text": [
            "[0, 1, 2, 3]\n"
          ],
          "name": "stdout"
        }
      ]
    },
    {
      "cell_type": "code",
      "metadata": {
        "colab": {
          "base_uri": "https://localhost:8080/"
        },
        "id": "Zj49kaAgX5fl",
        "outputId": "aa0607f2-02f3-4fa4-e010-6aa1f6bda341"
      },
      "source": [
        "def kmp(txt, pat):\n",
        "  lps = computeLPS(pat)\n",
        "  m = len(pat)\n",
        "  n = len(txt)\n",
        "  res = []\n",
        "\n",
        "  i = 0\n",
        "  j = 0\n",
        "\n",
        "  while i<n:\n",
        "    if txt[i]==pat[j]:\n",
        "      i += 1\n",
        "      j += 1\n",
        "\n",
        "      if j==m:\n",
        "        res.append(i-j)\n",
        "        j = lps[j-1]\n",
        "    else:\n",
        "      if j==0:\n",
        "        i += 1\n",
        "\n",
        "      else:\n",
        "        j = lps[j-1]\n",
        "\n",
        "  return res\n",
        "\n",
        "\n",
        "print(kmp('THIS IS A TEST TEXT', 'TEST'))"
      ],
      "execution_count": 8,
      "outputs": [
        {
          "output_type": "stream",
          "text": [
            "[10]\n"
          ],
          "name": "stdout"
        }
      ]
    },
    {
      "cell_type": "code",
      "metadata": {
        "id": "6EffaL0La-mj"
      },
      "source": [
        ""
      ],
      "execution_count": null,
      "outputs": []
    }
  ]
}