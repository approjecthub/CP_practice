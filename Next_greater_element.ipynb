{
  "nbformat": 4,
  "nbformat_minor": 0,
  "metadata": {
    "colab": {
      "name": "Next greater element.ipynb",
      "provenance": [],
      "authorship_tag": "ABX9TyMHsk2W4t9xoCA4OOkO8s3n",
      "include_colab_link": true
    },
    "kernelspec": {
      "name": "python3",
      "display_name": "Python 3"
    },
    "language_info": {
      "name": "python"
    }
  },
  "cells": [
    {
      "cell_type": "markdown",
      "metadata": {
        "id": "view-in-github",
        "colab_type": "text"
      },
      "source": [
        "<a href=\"https://colab.research.google.com/github/approjecthub/CP_practice/blob/main/Next_greater_element.ipynb\" target=\"_parent\"><img src=\"https://colab.research.google.com/assets/colab-badge.svg\" alt=\"Open In Colab\"/></a>"
      ]
    },
    {
      "cell_type": "code",
      "metadata": {
        "id": "u24Sos6WWkXK"
      },
      "source": [
        "def nextGreaterElements(nums) :\n",
        "    n = len(nums)\n",
        "    op = [-1]*n\n",
        "    \n",
        "    for i in range(n):\n",
        "        j = (i+1)%n\n",
        "        while j!=i:\n",
        "            if nums[j]>nums[i]:\n",
        "                op[i] = nums[j]\n",
        "                break\n",
        "                \n",
        "            j = (j+1)%n\n",
        "            \n",
        "    return op"
      ],
      "execution_count": 1,
      "outputs": []
    },
    {
      "cell_type": "code",
      "metadata": {
        "colab": {
          "base_uri": "https://localhost:8080/"
        },
        "id": "ep3wLvYtXSEf",
        "outputId": "59737fd7-77be-448c-cc92-93f80c3d6aad"
      },
      "source": [
        "print(nextGreaterElements([1,2,3,4,3]))"
      ],
      "execution_count": 2,
      "outputs": [
        {
          "output_type": "stream",
          "text": [
            "[2, 3, 4, -1, 4]\n"
          ],
          "name": "stdout"
        }
      ]
    },
    {
      "cell_type": "code",
      "metadata": {
        "id": "BFvYffKfXa49"
      },
      "source": [
        ""
      ],
      "execution_count": null,
      "outputs": []
    }
  ]
}