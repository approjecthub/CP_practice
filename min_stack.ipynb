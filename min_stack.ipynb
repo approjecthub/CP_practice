{
  "nbformat": 4,
  "nbformat_minor": 0,
  "metadata": {
    "colab": {
      "name": "min stack.ipynb",
      "provenance": [],
      "authorship_tag": "ABX9TyOcAj4rHSPbyycH2pbVGgfm",
      "include_colab_link": true
    },
    "kernelspec": {
      "name": "python3",
      "display_name": "Python 3"
    },
    "language_info": {
      "name": "python"
    }
  },
  "cells": [
    {
      "cell_type": "markdown",
      "metadata": {
        "id": "view-in-github",
        "colab_type": "text"
      },
      "source": [
        "<a href=\"https://colab.research.google.com/github/approjecthub/CP_practice/blob/main/min_stack.ipynb\" target=\"_parent\"><img src=\"https://colab.research.google.com/assets/colab-badge.svg\" alt=\"Open In Colab\"/></a>"
      ]
    },
    {
      "cell_type": "markdown",
      "metadata": {
        "id": "kK3LNGRZEDHO"
      },
      "source": [
        "https://leetcode.com/problems/min-stack/"
      ]
    },
    {
      "cell_type": "code",
      "metadata": {
        "id": "PnK9L6pzD39I"
      },
      "source": [
        "class MinStack:\n",
        "\n",
        "    def __init__(self):\n",
        "        \"\"\"\n",
        "        initialize your data structure here.\n",
        "        \"\"\"\n",
        "        self.stack = []\n",
        "        self.size = 0\n",
        "        self.minx = float('inf')\n",
        "        \n",
        "\n",
        "    def push(self, val: int) -> None:\n",
        "        self.minx = min(self.minx, val)\n",
        "        self.stack.append([val, self.minx])\n",
        "        self.size += 1\n",
        "\n",
        "    def pop(self) -> None:\n",
        "        \n",
        "        self.stack.pop()\n",
        "        self.size -= 1\n",
        "        if self.size>0:\n",
        "            x= self.stack[self.size-1]\n",
        "            self.minx = max(x[1],self.minx )\n",
        "        else:\n",
        "            self.minx = float('inf')\n",
        "        \n",
        "\n",
        "    def top(self) -> int:\n",
        "        x = self.stack[self.size-1]\n",
        "        return x[0]\n",
        "\n",
        "    def getMin(self) -> int:\n",
        "        return self.minx"
      ],
      "execution_count": null,
      "outputs": []
    }
  ]
}