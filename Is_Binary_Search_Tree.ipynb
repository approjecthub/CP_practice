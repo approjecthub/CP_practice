{
  "nbformat": 4,
  "nbformat_minor": 0,
  "metadata": {
    "colab": {
      "name": "Is Binary Search Tree.ipynb",
      "provenance": [],
      "authorship_tag": "ABX9TyP/POygeWtCpOc1+t17PqEw",
      "include_colab_link": true
    },
    "kernelspec": {
      "name": "python3",
      "display_name": "Python 3"
    },
    "language_info": {
      "name": "python"
    }
  },
  "cells": [
    {
      "cell_type": "markdown",
      "metadata": {
        "id": "view-in-github",
        "colab_type": "text"
      },
      "source": [
        "<a href=\"https://colab.research.google.com/github/approjecthub/CP_practice/blob/main/Is_Binary_Search_Tree.ipynb\" target=\"_parent\"><img src=\"https://colab.research.google.com/assets/colab-badge.svg\" alt=\"Open In Colab\"/></a>"
      ]
    },
    {
      "cell_type": "code",
      "metadata": {
        "id": "jXBOcVDnDhL3"
      },
      "source": [
        "# Use this class to create binary trees.\n",
        "class Node:\n",
        "    def __init__(self, value, left=None, right=None):\n",
        "        self.value = value\n",
        "        self.left = left\n",
        "        self.right = right\n",
        "\n",
        "    def __str__(self):\n",
        "        return str(self.value)\n",
        "\n",
        "\n",
        "# Implement your function below.\n",
        "def helper(root):\n",
        "  if root:\n",
        "    l = helper(root.left)\n",
        "    r = helper(root.right)\n",
        "    if l==-1 or r == -1:\n",
        "      \n",
        "      return -1\n",
        "    elif l== float('-inf') and r==float('-inf'):\n",
        "      return root.value\n",
        "    elif l==float('-inf') and root.value<r:\n",
        "      return r\n",
        "\n",
        "    elif r==float('-inf') and root.value>l :\n",
        "     \n",
        "      return root.value\n",
        "    elif root.value>l and root.value<r:\n",
        "      return r\n",
        "      \n",
        "    else:\n",
        "      return -1\n",
        "  else:\n",
        "    return float('-inf')\n",
        "\n",
        "    \n",
        "def is_bst(node, lower_lim=None, upper_lim=None):\n",
        "    if helper(node)==-1:\n",
        "      return False\n",
        "    else:\n",
        "      return True\n",
        "\n",
        "\n",
        "# A function for creating a tree.\n",
        "# Input:\n",
        "# - mapping: a node-to-node mapping that shows how the tree should be constructed\n",
        "# - head_value: the value that will be used for the head ndoe\n",
        "# Output:\n",
        "# - The head node of the resulting tree\n",
        "def create_tree(mapping, head_value):\n",
        "    head = Node(head_value)\n",
        "    nodes = {head_value: head}\n",
        "    for key, value in mapping.items():\n",
        "        nodes[value[0]] = Node(value[0])\n",
        "        nodes[value[1]] = Node(value[1])\n",
        "    for key, value in mapping.items():\n",
        "        nodes[key].left = nodes[value[0]]\n",
        "        nodes[key].right = nodes[value[1]]\n",
        "    return head\n",
        "\n"
      ],
      "execution_count": 13,
      "outputs": []
    },
    {
      "cell_type": "code",
      "metadata": {
        "id": "vEBGsE-icyw2"
      },
      "source": [
        "\n",
        "# NOTE: The following values will be used for testing your solution.\n",
        "\n",
        "# The mapping we're going to use for constructing a tree.\n",
        "# {0: [1, 2]} means that 0's left child is 1, and its right\n",
        "# child is 2.\n",
        "mapping0 = {0: [1, 2]}\n",
        "mapping1 = {0: [1, 2], 1: [3, 4], 2: [5, 6]}\n",
        "mapping2 = {3: [1, 4], 1: [0, 2], 4: [5, 6]}\n",
        "mapping3 = {3: [1, 5], 1: [0, 2], 5: [4, 6]}\n",
        "mapping4 = {3: [1, 5], 1: [0, 4]}\n",
        "head0 = create_tree(mapping0, 0)\n",
        "# This tree is:\n",
        "#  head0 = 0\n",
        "#        /   \\\n",
        "#       1     2\n",
        "head1 = create_tree(mapping1, 0)\n",
        "# This tree is:\n",
        "#  head1 = 0\n",
        "#        /   \\\n",
        "#       1     2\n",
        "#      /\\    / \\\n",
        "#     3  4  5   6\n",
        "head2 = create_tree(mapping2, 3)\n",
        "# This tree is:\n",
        "#  head2 = 3\n",
        "#        /   \\\n",
        "#       1     4\n",
        "#      /\\    / \\\n",
        "#     0  2  5   6\n",
        "head3 = create_tree(mapping3, 3)\n",
        "# This tree is:\n",
        "#  head3 = 3\n",
        "#        /   \\\n",
        "#       1     5\n",
        "#      /\\    / \\\n",
        "#     0  2  4   6\n",
        "head4 = create_tree(mapping4, 3)\n",
        "# This tree is:\n",
        "#  head4 = 3\n",
        "#        /   \\\n",
        "#       1     5\n",
        "#      /\\\n",
        "#     0  4\n"
      ],
      "execution_count": 2,
      "outputs": []
    },
    {
      "cell_type": "code",
      "metadata": {
        "id": "e5ti8REtQy4c",
        "colab": {
          "base_uri": "https://localhost:8080/"
        },
        "outputId": "b8b287e3-c013-4c60-802c-6d2da8ee5245"
      },
      "source": [
        "print(is_bst(head0)) #should return False\n",
        "print(is_bst(head1)) #should return False\n",
        "print(is_bst(head2)) #should return False\n",
        "print(is_bst(head3)) #should return True\n",
        "print(is_bst(head4)) #should return False"
      ],
      "execution_count": 15,
      "outputs": [
        {
          "output_type": "stream",
          "text": [
            "False\n",
            "False\n",
            "False\n",
            "True\n",
            "False\n"
          ],
          "name": "stdout"
        }
      ]
    },
    {
      "cell_type": "code",
      "metadata": {
        "id": "vLyK7d0ZdB4o"
      },
      "source": [
        ""
      ],
      "execution_count": null,
      "outputs": []
    }
  ]
}