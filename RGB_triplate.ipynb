{
  "nbformat": 4,
  "nbformat_minor": 0,
  "metadata": {
    "colab": {
      "name": "RGB_triplate.ipynb",
      "provenance": [],
      "collapsed_sections": [],
      "authorship_tag": "ABX9TyM+WItArhIkS6RQzRd4GV0R",
      "include_colab_link": true
    },
    "kernelspec": {
      "name": "python3",
      "display_name": "Python 3"
    },
    "language_info": {
      "name": "python"
    }
  },
  "cells": [
    {
      "cell_type": "markdown",
      "metadata": {
        "id": "view-in-github",
        "colab_type": "text"
      },
      "source": [
        "<a href=\"https://colab.research.google.com/github/approjecthub/CP_practice/blob/main/RGB_triplate.ipynb\" target=\"_parent\"><img src=\"https://colab.research.google.com/assets/colab-badge.svg\" alt=\"Open In Colab\"/></a>"
      ]
    },
    {
      "cell_type": "markdown",
      "metadata": {
        "id": "5linzGSf2szE"
      },
      "source": [
        "## Problem Statement :\n",
        "### https://www.geeksforgeeks.org/count-of-ordered-triplets-r-g-b-in-a-given-original-string/"
      ]
    },
    {
      "cell_type": "code",
      "metadata": {
        "colab": {
          "base_uri": "https://localhost:8080/"
        },
        "id": "saAZ541SquE8",
        "outputId": "20cccf34-2a57-429a-d2fa-147540d86676"
      },
      "source": [
        "##o(n3)\n",
        "s1 = \"RRGGBBRGGBB\"\n",
        "\n",
        "ans = 0\n",
        "\n",
        "for i in range(len(s1)):\n",
        "  if s1[i]=='R':\n",
        "    for j in range(i+1, len(s1)):\n",
        "      if s1[j]=='G':\n",
        "        for k in range(j+1, len(s1)):\n",
        "          if s1[k]=='B':\n",
        "            ans += 1\n",
        "\n",
        "print(ans)"
      ],
      "execution_count": 7,
      "outputs": [
        {
          "output_type": "stream",
          "text": [
            "28\n"
          ],
          "name": "stdout"
        }
      ]
    },
    {
      "cell_type": "code",
      "metadata": {
        "colab": {
          "base_uri": "https://localhost:8080/"
        },
        "id": "j5MzzWk1tffb",
        "outputId": "c6e171df-55a7-431e-cb95-d1064c93a264"
      },
      "source": [
        "##o(n2) if we add dp\n",
        "s1 = \"GRB\"\n",
        "s2 = \"RGB\"\n",
        "\n",
        "def fun(i,j):\n",
        "  if j<0:\n",
        "    return 1\n",
        "\n",
        "  elif i<0:\n",
        "    return 0 \n",
        "\n",
        "  elif s1[i]==s2[j]:\n",
        "    return fun(i-1, j) + fun( i-1, j-1)\n",
        "\n",
        "  else:\n",
        "    return fun(i-1, j)\n",
        "\n",
        "print(fun(len(s1)-1, len(s2)-1))"
      ],
      "execution_count": 12,
      "outputs": [
        {
          "output_type": "stream",
          "text": [
            "0\n"
          ],
          "name": "stdout"
        }
      ]
    },
    {
      "cell_type": "code",
      "metadata": {
        "id": "bDUA9WdT1EFu"
      },
      "source": [
        ""
      ],
      "execution_count": null,
      "outputs": []
    }
  ]
}