{
  "nbformat": 4,
  "nbformat_minor": 0,
  "metadata": {
    "colab": {
      "name": "ContainerWithMostWater.ipynb",
      "provenance": [],
      "authorship_tag": "ABX9TyPDqYJC61xhyJ9ABYBVzPpp",
      "include_colab_link": true
    },
    "kernelspec": {
      "name": "python3",
      "display_name": "Python 3"
    },
    "language_info": {
      "name": "python"
    }
  },
  "cells": [
    {
      "cell_type": "markdown",
      "metadata": {
        "id": "view-in-github",
        "colab_type": "text"
      },
      "source": [
        "<a href=\"https://colab.research.google.com/github/approjecthub/CP_practice/blob/main/ContainerWithMostWater.ipynb\" target=\"_parent\"><img src=\"https://colab.research.google.com/assets/colab-badge.svg\" alt=\"Open In Colab\"/></a>"
      ]
    },
    {
      "cell_type": "code",
      "metadata": {
        "id": "n3cWlR1OWvlx"
      },
      "source": [
        "class Solution:\n",
        "    def maxArea(self, height: List[int]) -> int:\n",
        "        n = len(height)\n",
        "        l,r = 0,n-1\n",
        "        \n",
        "        maxamt = 0\n",
        "        while l<r:\n",
        "            maxamt = max(maxamt , (r-l)*min(height[l], height[r]) )\n",
        "            \n",
        "            if(height[l]< height[r]):\n",
        "                l += 1\n",
        "            else:\n",
        "                r -= 1\n",
        "                \n",
        "        return maxamt"
      ],
      "execution_count": null,
      "outputs": []
    }
  ]
}