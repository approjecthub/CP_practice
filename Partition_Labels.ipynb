{
  "nbformat": 4,
  "nbformat_minor": 0,
  "metadata": {
    "colab": {
      "name": "Partition Labels.ipynb",
      "provenance": [],
      "authorship_tag": "ABX9TyN60+NhYarcxR26LX3+6KPh",
      "include_colab_link": true
    },
    "kernelspec": {
      "name": "python3",
      "display_name": "Python 3"
    },
    "language_info": {
      "name": "python"
    }
  },
  "cells": [
    {
      "cell_type": "markdown",
      "metadata": {
        "id": "view-in-github",
        "colab_type": "text"
      },
      "source": [
        "<a href=\"https://colab.research.google.com/github/approjecthub/CP_practice/blob/main/Partition_Labels.ipynb\" target=\"_parent\"><img src=\"https://colab.research.google.com/assets/colab-badge.svg\" alt=\"Open In Colab\"/></a>"
      ]
    },
    {
      "cell_type": "markdown",
      "metadata": {
        "id": "I_C_Qjk8aI5H"
      },
      "source": [
        "https://leetcode.com/problems/partition-labels/"
      ]
    },
    {
      "cell_type": "code",
      "metadata": {
        "id": "JcLuybk2Z4kc"
      },
      "source": [
        "class Solution:\n",
        "    def partitionLabels(self, s: str) -> List[int]:\n",
        "        na = ord('z')-ord('a')+1\n",
        "        aux = [[float('inf'), float('inf')] for _ in range(na)]\n",
        "        ns = len(s)\n",
        "        \n",
        "        for i in range(na):\n",
        "            label = True\n",
        "            for j in range(ns):\n",
        "                if label and ord(s[j])-ord('a')==i:\n",
        "                    label = False\n",
        "                    aux[i][0] = j\n",
        "                if ord(s[j])-ord('a')==i:\n",
        "                    aux[i][1] = j\n",
        "                    \n",
        "        # print(aux)    \n",
        "        aux = list(filter(lambda x: x[0]!=float('inf'), aux))\n",
        "        aux.sort(key=lambda x: x[0])\n",
        "        \n",
        "        st = [aux[0]]\n",
        "        for i in range(1,len(aux)):\n",
        "            if aux[i][0]<=st[-1][1]:\n",
        "                st[-1][1] = max(st[-1][1], aux[i][1])\n",
        "                \n",
        "            else:\n",
        "                st.append(aux[i])\n",
        "                \n",
        "            \n",
        "        # print(st)\n",
        "        op = []\n",
        "        for i in range(len(st)):\n",
        "            op.append(st[i][1] - st[i][0] +1)\n",
        "            \n",
        "        return op"
      ],
      "execution_count": null,
      "outputs": []
    },
    {
      "cell_type": "code",
      "metadata": {
        "id": "JVCTKCUwqWAU"
      },
      "source": [
        "class Solution:\n",
        "    def partitionLabels(self, s: str) -> List[int]:\n",
        "        dic = {}\n",
        "        for i in range(len(s)):\n",
        "            dic[s[i]]=i\n",
        "            \n",
        "        l,r = 0,0\n",
        "        op = []\n",
        "        for i in range(len(s)):\n",
        "            r = max(r, dic[s[i]])\n",
        "            \n",
        "            if i == r:\n",
        "                op.append(r-l+1)\n",
        "                l = i+1\n",
        "                \n",
        "        return op\n",
        "          "
      ],
      "execution_count": 1,
      "outputs": []
    },
    {
      "cell_type": "code",
      "metadata": {
        "id": "Xw1H0B09ru6Z"
      },
      "source": [
        ""
      ],
      "execution_count": null,
      "outputs": []
    }
  ]
}