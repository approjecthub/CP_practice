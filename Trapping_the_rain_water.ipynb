{
  "nbformat": 4,
  "nbformat_minor": 0,
  "metadata": {
    "colab": {
      "name": "Trapping the rain water.ipynb",
      "provenance": [],
      "authorship_tag": "ABX9TyMloK3ithqJt8qfv6sCDNKO",
      "include_colab_link": true
    },
    "kernelspec": {
      "name": "python3",
      "display_name": "Python 3"
    },
    "language_info": {
      "name": "python"
    }
  },
  "cells": [
    {
      "cell_type": "markdown",
      "metadata": {
        "id": "view-in-github",
        "colab_type": "text"
      },
      "source": [
        "<a href=\"https://colab.research.google.com/github/approjecthub/CP_practice/blob/main/Trapping_the_rain_water.ipynb\" target=\"_parent\"><img src=\"https://colab.research.google.com/assets/colab-badge.svg\" alt=\"Open In Colab\"/></a>"
      ]
    },
    {
      "cell_type": "markdown",
      "metadata": {
        "id": "LqjVeRFDT7jT"
      },
      "source": [
        "https://leetcode.com/problems/trapping-rain-water/"
      ]
    },
    {
      "cell_type": "code",
      "metadata": {
        "id": "xmiGuMJ7TxPC"
      },
      "source": [
        "def trap(height):\n",
        "    \n",
        "    n = len(height)\n",
        "    if n==0:\n",
        "        return 0\n",
        "    maxb = [0]*n\n",
        "    maxf = [0]*n\n",
        "    maxb[n-1] = height[n-1]\n",
        "    for i in range(n-2,-1, -1):\n",
        "        maxb[i] = max(maxb[i+1], height[i])\n",
        "    maxf[0] = height[0]    \n",
        "    for i in range(1,n):\n",
        "        maxf[i] = max(maxf[i-1], height[i])\n",
        "        \n",
        "    ans = 0\n",
        "    \n",
        "    for i in range(n):\n",
        "        \n",
        "        minh = min(maxb[i],maxf[i])\n",
        "        ans += max(0, minh - height[i])\n",
        "            \n",
        "    return ans"
      ],
      "execution_count": null,
      "outputs": []
    },
    {
      "cell_type": "code",
      "metadata": {
        "id": "TIiI7bPDT8NN"
      },
      "source": [
        ""
      ],
      "execution_count": null,
      "outputs": []
    }
  ]
}